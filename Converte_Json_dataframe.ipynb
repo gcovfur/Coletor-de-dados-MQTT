{
 "cells": [
  {
   "cell_type": "code",
   "execution_count": 4,
   "metadata": {},
   "outputs": [],
   "source": [
    "#import de bibliotecas \n",
    "import pandas as pd\n",
    "import json\n",
    "\n",
    "#dataframe que irá abrigar dados convertidos do formato jason\n",
    "df = [] \n",
    "\n",
    "data = open(\"DesafioIBM7.txt\", \"r\")\n",
    "for i in data:\n",
    "    x = json.loads(i)\n",
    "    df.append(pd.json_normalize(x))\n",
    "\n",
    "df_data_1 = pd.concat(df)\n",
    "df_data_1 = df_data_1.drop_duplicates(keep='first')\n",
    "df_data_1.to_csv('base.csv')\n",
    "len(df_data_1)"
   ]
  }
 ],
 "metadata": {
  "kernelspec": {
   "display_name": "Python 3",
   "language": "python",
   "name": "python3"
  },
  "language_info": {
   "codemirror_mode": {
    "name": "ipython",
    "version": 3
   },
   "file_extension": ".py",
   "mimetype": "text/x-python",
   "name": "python",
   "nbconvert_exporter": "python",
   "pygments_lexer": "ipython3",
   "version": "3.7.6"
  }
 },
 "nbformat": 4,
 "nbformat_minor": 4
}
