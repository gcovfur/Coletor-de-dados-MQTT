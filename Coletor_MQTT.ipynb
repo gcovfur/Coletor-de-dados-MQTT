{
 "cells": [
  {
   "cell_type": "code",
   "execution_count": null,
   "metadata": {},
   "outputs": [],
   "source": [
    "#instalar biblioteca paho-mqtt\n",
    "#!pip install paho-mqtt\n",
    "\n",
    "#importar biblioteca para o projeto\n",
    "import paho.mqtt.client as mqtt\n",
    "import paho.mqtt.subscribe as subscribe"
   ]
  },
  {
   "cell_type": "code",
   "execution_count": null,
   "metadata": {},
   "outputs": [],
   "source": [
    "#credenciasi de acesso ao serviço de dados IoT\n",
    "host = \"servidor\"\n",
    "port = porta\n",
    "username = \"usuario\"\n",
    "password = \"senha\"\n",
    "topic = \"tnt\""
   ]
  },
  {
   "cell_type": "code",
   "execution_count": null,
   "metadata": {},
   "outputs": [],
   "source": [
    "# Callback para quando o client receber um CONNACK de resposta do servidor\n",
    "def on_connect(client, userdata, flags, rc):\n",
    "    print(\"Connected with result code \"+str(rc))\n",
    "    # Subscrição no método on_connect() para no caso de perda de conexão\n",
    "    # seguida de reconexão, a subscrição seja renovada.\n",
    "    client.subscribe(\"\")\n",
    "\n",
    "# Callback para quando uma mensagem PUBLISH for recebida do servidor.\n",
    "def on_message(client, userdata, msg):\n",
    "    #impressão de mensagem na tela\n",
    "    print(msg.topic+\" \"+str(msg.payload.decode(\"utf-8\")))\n",
    "    #escrita de resultados no formato json em arquivo txt\n",
    "    with open('DesafioIBM7_2.txt','a+') as f:\n",
    "         f.write(msg.payload.decode(\"utf-8\") + \"\\n\")\n",
    "    \n",
    "#instancia do client\n",
    "mqttc = mqtt.Client()\n",
    "#atribuição de credenciais de acesso\n",
    "mqttc.username_pw_set(username=username, password=password) \n",
    "\n",
    "#conexão com o servidor\n",
    "mqttc.connect(host, port, 60)\n",
    "mqttc.on_connect = on_connect\n",
    "mqttc.on_message = on_message\n",
    "\n",
    "#início do loop para processar mensagens recebidas\n",
    "mqttc.loop_start() \n",
    "mqttc.subscribe(topic) \n",
    "\n",
    "#Como desejamos consumir o serviço infinitamente, não há desconexão do servidor\n",
    "#mqttc.disconnect() #disconnect\n",
    "#mqttc.loop_stop() #stop loop\n"
   ]
  }
 ],
 "metadata": {
  "kernelspec": {
   "display_name": "Python 3",
   "language": "python",
   "name": "python3"
  },
  "language_info": {
   "codemirror_mode": {
    "name": "ipython",
    "version": 3
   },
   "file_extension": ".py",
   "mimetype": "text/x-python",
   "name": "python",
   "nbconvert_exporter": "python",
   "pygments_lexer": "ipython3",
   "version": "3.7.6"
  }
 },
 "nbformat": 4,
 "nbformat_minor": 4
}
